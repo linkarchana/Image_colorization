{
  "nbformat": 4,
  "nbformat_minor": 0,
  "metadata": {
    "colab": {
      "name": "Dataset.ipynb",
      "provenance": []
    },
    "kernelspec": {
      "name": "python3",
      "display_name": "Python 3"
    },
    "language_info": {
      "name": "python"
    }
  },
  "cells": [
    {
      "cell_type": "code",
      "source": [
        "from fastai.data.external import untar_data, URLs\n",
        "coco_path = untar_data(URLs.COCO_SAMPLE)\n",
        "coco_path = str(coco_path) + \"/train_sample\"\n",
        "paths = glob.glob(coco_path + \"/*.jpg\") # Grabbing all the image file names\n",
        "np.random.seed(123)\n",
        "paths_subset = np.random.choice(paths, 10_000, replace=False) # choosing 1000 images randomly\n",
        "rand_idxs = np.random.permutation(10_000)\n",
        "train_idxs = rand_idxs[:8000] # choosing the first 8000 as training set\n",
        "val_idxs = rand_idxs[8000:] # choosing last 2000 as validation set\n",
        "train_paths = paths_subset[train_idxs]\n",
        "val_paths = paths_subset[val_idxs]\n",
        "print(len(train_paths), len(val_paths))"
      ],
      "metadata": {
        "id": "sae8YQ3yhAW4"
      },
      "execution_count": null,
      "outputs": []
    }
  ]
}